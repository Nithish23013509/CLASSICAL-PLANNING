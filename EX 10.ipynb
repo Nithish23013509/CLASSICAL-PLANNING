{
 "cells": [
  {
   "cell_type": "code",
   "execution_count": 1,
   "id": "78147622-7538-4b99-8cd2-1914729bfa1f",
   "metadata": {},
   "outputs": [
    {
     "name": "stdout",
     "output_type": "stream",
     "text": [
      "['move_A_to_B']\n",
      "['move_A_to_B', 'move_B_to_C']\n",
      "[]\n"
     ]
    }
   ],
   "source": [
    "def is_goal_state(current_state, goal_state):\n",
    "    return current_state == goal_state\n",
    "\n",
    "def apply_action(current_state, action_effect):\n",
    "    new_state = current_state.copy()\n",
    "    new_state.update(action_effect)\n",
    "    return new_state\n",
    "\n",
    "def find_plan(initial_state, goal_state, actions):\n",
    "    queue = [(initial_state, [])]\n",
    "    visited_states = set()\n",
    "    while queue:\n",
    "        current_state, partial_plan = queue.pop(0)\n",
    "        if is_goal_state(current_state, goal_state):\n",
    "            return partial_plan\n",
    "        if tuple(current_state.items()) in visited_states:\n",
    "            continue\n",
    "        visited_states.add(tuple(current_state.items()))\n",
    "        for action in actions:\n",
    "            if is_applicable(current_state, actions[action]['precondition']):\n",
    "                next_state = apply_action(current_state, actions[action]['effect'])\n",
    "                queue.append((next_state, partial_plan + [action]))\n",
    "    print(\"No plan exists.\")\n",
    "    return None\n",
    "\n",
    "def is_applicable(current_state, precondition):\n",
    "    return all(current_state.get(key) == value for key, value in precondition.items())\n",
    "\n",
    "initial_state = {'A': 'Table', 'B': 'Table'}\n",
    "goal_state = {'A': 'B', 'B': 'Table'}\n",
    "actions = {\n",
    "    'move_A_to_B': {'precondition': {'A': 'Table', 'B': 'Table'}, 'effect': {'A': 'B'}},\n",
    "    'move_B_to_Table': {'precondition': {'A': 'Table', 'B': 'B'}, 'effect': {'B': 'Table'}}\n",
    "}\n",
    "plan = find_plan(initial_state, goal_state, actions)\n",
    "print(plan)\n",
    "\n",
    "initial_state = {'A': 'Table', 'B': 'Table', 'C': 'Table'}\n",
    "goal_state = {'A': 'B', 'B': 'C', 'C': 'Table'}\n",
    "actions = {\n",
    "    'move_A_to_B': {'precondition': {'A': 'Table', 'B': 'Table'}, 'effect': {'A': 'B'}},\n",
    "    'move_B_to_C': {'precondition': {'A': 'B', 'B': 'Table', 'C': 'Table'}, 'effect': {'B': 'C'}},\n",
    "    'move_C_to_Table': {'precondition': {'A': 'B', 'B': 'C', 'C': 'C'}, 'effect': {'C': 'Table'}}\n",
    "}\n",
    "plan = find_plan(initial_state, goal_state, actions)\n",
    "print(plan)\n",
    "\n",
    "initial_state = {'A': 'Table', 'B': 'Table'}\n",
    "goal_state = {'A': 'Table', 'B': 'Table'}\n",
    "actions = {\n",
    "    'move_A_to_B': {'precondition': {'A': 'Table', 'B': 'Table'}, 'effect': {'A': 'B'}}\n",
    "}\n",
    "plan = find_plan(initial_state, goal_state, actions)\n",
    "print(plan)"
   ]
  },
  {
   "cell_type": "code",
   "execution_count": null,
   "id": "e23905a4-4ac7-472b-8f91-a09786ecc420",
   "metadata": {},
   "outputs": [],
   "source": []
  }
 ],
 "metadata": {
  "kernelspec": {
   "display_name": "Python 3 (ipykernel)",
   "language": "python",
   "name": "python3"
  },
  "language_info": {
   "codemirror_mode": {
    "name": "ipython",
    "version": 3
   },
   "file_extension": ".py",
   "mimetype": "text/x-python",
   "name": "python",
   "nbconvert_exporter": "python",
   "pygments_lexer": "ipython3",
   "version": "3.11.13"
  }
 },
 "nbformat": 4,
 "nbformat_minor": 5
}
